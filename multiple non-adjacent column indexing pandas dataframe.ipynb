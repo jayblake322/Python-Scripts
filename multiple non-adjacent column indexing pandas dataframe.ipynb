{
 "cells": [
  {
   "cell_type": "code",
   "execution_count": 4,
   "metadata": {},
   "outputs": [
    {
     "name": "stdout",
     "output_type": "stream",
     "text": [
      "          2         5         6         7         8         9         0\n",
      "0  0.959577  0.875784  0.476797  0.178716  0.699154  0.225887  0.926738\n",
      "1  0.665644  0.135226  0.133393  0.744136  0.569933  0.294754  0.024365\n",
      "2  0.285365  0.734463  0.532890  0.670615  0.001224  0.652804  0.414004\n"
     ]
    }
   ],
   "source": [
    "import numpy as np\n",
    "import pandas as pd\n",
    "\n",
    "df = pd.DataFrame(np.random.random((3, 10)))\n",
    "\n",
    "res = df.iloc[:, np.r_[2, 5:10, 0]]\n",
    "\n",
    "print(res)"
   ]
  }
 ],
 "metadata": {
  "kernelspec": {
   "display_name": "Python 3",
   "language": "python",
   "name": "python3"
  },
  "language_info": {
   "codemirror_mode": {
    "name": "ipython",
    "version": 3
   },
   "file_extension": ".py",
   "mimetype": "text/x-python",
   "name": "python",
   "nbconvert_exporter": "python",
   "pygments_lexer": "ipython3",
   "version": "3.7.3"
  }
 },
 "nbformat": 4,
 "nbformat_minor": 2
}
