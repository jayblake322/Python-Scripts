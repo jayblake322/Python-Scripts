{
 "cells": [
  {
   "cell_type": "code",
   "execution_count": 2,
   "metadata": {},
   "outputs": [
    {
     "name": "stdout",
     "output_type": "stream",
     "text": [
      "Please enter a number between 1 and 6 to perform that task: kj\n",
      "Check your input and try again\n",
      "Please enter a number between 1 and 6 to perform that task: fdgd\n",
      "Check your input and try again\n",
      "Please enter a number between 1 and 6 to perform that task: 5\n"
     ]
    }
   ],
   "source": [
    "def main():\n",
    "    \n",
    "    while True:\n",
    "        try:\n",
    "            user_choice = int(input(\"Please enter a number between 1 and 6 to perform that task: \"))\n",
    "        except:\n",
    "            print(\"Check your input and try again\")\n",
    "        else:\n",
    "            break\n",
    "        \n",
    "main()"
   ]
  }
 ],
 "metadata": {
  "kernelspec": {
   "display_name": "Python 3",
   "language": "python",
   "name": "python3"
  },
  "language_info": {
   "codemirror_mode": {
    "name": "ipython",
    "version": 3
   },
   "file_extension": ".py",
   "mimetype": "text/x-python",
   "name": "python",
   "nbconvert_exporter": "python",
   "pygments_lexer": "ipython3",
   "version": "3.7.3"
  }
 },
 "nbformat": 4,
 "nbformat_minor": 2
}
