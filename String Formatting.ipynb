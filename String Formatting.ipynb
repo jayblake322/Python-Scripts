{
 "cells": [
  {
   "cell_type": "code",
   "execution_count": 45,
   "metadata": {},
   "outputs": [
    {
     "name": "stdout",
     "output_type": "stream",
     "text": [
      "\n",
      "data set\n",
      "----------\n",
      "Number of values n():  1\n",
      "          Min: 2           \n",
      "          Max: 3           \n",
      "       Median: 5.0       \n",
      "         Mode: 7        \n",
      "                                   Vowels: 10                                   \n"
     ]
    }
   ],
   "source": [
    "number = 1\n",
    "lowest = 2\n",
    "highest = 3\n",
    "middle = 5\n",
    "most_frequent = 7\n",
    "\n",
    "# print report\n",
    "print(\"\")\n",
    "print(\"data set\")\n",
    "print(\"----------\")\n",
    "print(\"Number of values n(): \",  number)\n",
    "print(\"Min: %s\".center(28) % format(lowest, 'd'))\n",
    "print(\"Max: %s\".center(28) % format(highest, 'd'))\n",
    "print(\"Median: %s\".center(24) % format(middle, '1.1f'))\n",
    "print(\"Mode: %s\".center(25) % format(most_frequent, 'd'))\n"
   ]
  },
  {
   "cell_type": "code",
   "execution_count": null,
   "metadata": {},
   "outputs": [],
   "source": []
  }
 ],
 "metadata": {
  "kernelspec": {
   "display_name": "Python 3",
   "language": "python",
   "name": "python3"
  },
  "language_info": {
   "codemirror_mode": {
    "name": "ipython",
    "version": 3
   },
   "file_extension": ".py",
   "mimetype": "text/x-python",
   "name": "python",
   "nbconvert_exporter": "python",
   "pygments_lexer": "ipython3",
   "version": "3.7.3"
  }
 },
 "nbformat": 4,
 "nbformat_minor": 2
}
